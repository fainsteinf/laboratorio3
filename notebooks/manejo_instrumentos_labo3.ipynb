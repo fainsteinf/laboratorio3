{
 "cells": [
  {
   "cell_type": "markdown",
   "metadata": {},
   "source": [
    "## Comunicación con instrumentos - Laboratorio 3\n",
    "\n",
    "Esta notebook tiene las instrucciones básicas de comunicación con un osciloscopio y un generador de funciones. Encontrarán:\n",
    "\n",
    "1. Manejo del osciloscopio\n",
    "   \n",
    "    a. Seteo de escalas de la pantalla\n",
    "    \n",
    "    b.  Adquisición de la pantalla. \n",
    "  \n",
    "\n",
    "3. Manejo del generador\n",
    "\n",
    "    a. Seteo de la frecuencia y de la amplitud\n",
    "\n",
    "\n",
    "4. Realizar un barrido en frecuencia, adquirir los datos con el osciloscopio y guardarlos.\n",
    "\n",
    "5. Elegir una frecuencia, setear escalas del osciloscopio, adquirir y guardar.\n",
    "\n",
    "Enlaces útiles:\n",
    "\n",
    "a. [github de Hernán Grecco - Diego Shalom (DF-UBA)](https://github.com/hgrecco/labosdf/tree/master)\n",
    "\n",
    "b. [github de Marcelo Luda (DF-UBA)](https://marceluda.github.io/python-para-fisicos/tuto/labo2/05_instrumentacion/) \n",
    "\n",
    "**Osciloscopio Tektronix. Manuales:**\n",
    "\n",
    "c1. [Manual de operación](https://download.tek.com/manual/TBS1000B-User-Manual-077088602-RevA.pdf)\n",
    "\n",
    "c2. [Manual de programación](https://download.tek.com/manual/TBS1000-B-EDU-TDS2000-B-C-TDS1000-B-C-EDU-TDS200-TPS2000-Programmer_EN-US-RevA.pdf)\n",
    "    \n",
    "**Generador Tektronix AFG1022. Manuales:** \n",
    "\n",
    "d1. [Manual de operación](https://download.tek.com/manual/AFG1000-Quick-Start-User-Manual-EN-077113001.pdf)\n",
    "\n",
    "d2. [Manual de programación](https://download.tek.com/manual/AFG1000-Programmer-Manual-EN-077112901(20160719)-RevA.pdf)\n",
    "\n",
    "**Generadores Siglent 1050 - 1010 y 1062. Manual:**\n",
    "\n",
    "e1. [Manual de programación](https://siglentna.com/USA_website_2014/Documents/Program_Material/SDG_ProgrammingGuide_PG_E03B.pdf)\n",
    "\n",
    "## Control de los instrumentos y adquisición de una pantalla"
   ]
  },
  {
   "cell_type": "code",
   "execution_count": null,
   "metadata": {
    "id": "NvcPlmF-3TMU"
   },
   "outputs": [],
   "source": [
    "import pyvisa as visa\n",
    "import numpy as np\n",
    "import matplotlib.pyplot as plt\n",
    "import time\n",
    "import pandas as pd"
   ]
  },
  {
   "cell_type": "code",
   "execution_count": null,
   "metadata": {
    "id": "9TM7eZLr3TMf",
    "outputId": "1296822a-0f04-4462-ee5b-5ea891899fc4"
   },
   "outputs": [],
   "source": [
    "# Abro el resource manager\n",
    "rm = visa.ResourceManager()\n",
    "# Me fijo que instrumentos tengo conectados\n",
    "print(rm.list_resources())"
   ]
  },
  {
   "cell_type": "code",
   "execution_count": null,
   "metadata": {
    "id": "CmGWE6Mm3TMi",
    "outputId": "f01b5164-ce69-4993-db30-556b8451dded"
   },
   "outputs": [],
   "source": [
    "# Nombro cada instrumento\n",
    "resource_name_osc='USB::0x0699::0x0368::C033542::INSTR'  #Aqui deben colocar el nombre que les figure\n",
    "#Guardo el instrumento en una variable\n",
    "osci = rm.open_resource(resource_name_osc)\n",
    "#Le pido a los instrumentos que se identifiquen\n",
    "print(osci.query('*IDN?'))\n",
    "\n",
    "#----------------------------------------------------------------------\n",
    "fungen = rm.open_resource('USB::0xF4ED::0xEE3A::SDG000::INSTR')\n",
    "\n",
    "# Con el método 'query()' podemos enviar instrucciones QUE TIENEN RESPUESTA\n",
    "# Por ejemplo, la instrucción que nos informa el nombre del instrumento\n",
    "# al que nos conectamos\n",
    "#print(fungen.query('*IDN?'))"
   ]
  },
  {
   "cell_type": "markdown",
   "metadata": {
    "id": "r3KExFEM3TMp"
   },
   "source": [
    "**1.a. Seteo de la escala vertical y horizontal de la pantalla del oscilo**"
   ]
  },
  {
   "cell_type": "code",
   "execution_count": null,
   "metadata": {
    "id": "Tc14HNwy3TMq",
    "outputId": "5a93dde1-6c5d-4c14-f77e-2278d33aa0f3"
   },
   "outputs": [],
   "source": [
    "# Le preguntamos al osciloscopio la escala vertical del canal 1\n",
    "print(\"La escala vertical es: \", osci.query(\"CH1:SCAle?\"))\n",
    "# Cambiamos la escala vertical:\n",
    "#osci.write(\"CH1:SCAle 0.25\")\n",
    "\n",
    "# Preguntamos la escala horizontal\n",
    "print(\"La escala horizontal es: \", osci.query(\"HORizontal:MAIn:SCAle?\"))\n",
    "# Cambiamos la escala horizontal\n",
    "#osci.write(\"HORizontal:MAIn:SCAle 0.001\")"
   ]
  },
  {
   "cell_type": "markdown",
   "metadata": {},
   "source": [
    "**1.b. Adquisición de una pantalla (sin guardar los datos)**\n",
    "\n",
    "**Nota**:Si hay error, verificar que esten prendidos los dos canales del osciloscopio."
   ]
  },
  {
   "cell_type": "code",
   "execution_count": null,
   "metadata": {},
   "outputs": [],
   "source": [
    "osci.write('autoset EXECUTE') # autoset necesario \n",
    "time.sleep(5) #Esperar hasta que autosetee las escalas antes de mandarle otra instruccion\n",
    "\n",
    "#Prendemos ambos canales del osciloscopio\n",
    "osci.write('SEL:CH1 ON')\n",
    "osci.write('SEL:CH2 ON')\n",
    "\n",
    "# io config, modo de transmision\n",
    "osci.write('DAT:ENC RPB')\n",
    "osci.write('DAT:WID 1')\n",
    "\n",
    "#Canal 1\n",
    "osci.write('DAT:SOU CH1') \n",
    "          # DATa:SOUrce <wfm> \\ <wfm> puede ser CH<x>, MATH, REF<x> o FFT\n",
    "\n",
    "xze1, xin1, yze1, ymu1, yoff1 = osci.query_ascii_values('WFMPRE:XZE?;XIN?;YZE?;YMU?;YOFF?;', separator=';')\n",
    "data1 = osci.query_binary_values('CURV?', datatype='B', container=np.array)\n",
    "\n",
    "#Canal 2\n",
    "osci.write('DAT:SOU CH2') \n",
    "\n",
    "xze2, xin2, yze2, ymu2, yoff2 = osci.query_ascii_values('WFMPRE:XZE?;XIN?;YZE?;YMU?;YOFF?;', separator=';')\n",
    "data2 = osci.query_binary_values('CURV?', datatype='B', container=np.array)\n",
    "\n",
    "\n",
    "#Conversion a voltaje\n",
    "tiempo = xze1 + np.arange(len(data1)) * xin1 #tiempo de ch1 y ch2 son iguales\n",
    "data1v = (data1 - yoff1) * ymu1 + yze1\n",
    "data2v = (data2 - yoff2) * ymu2 + yze2\n",
    "\n",
    "plt.figure()\n",
    "plt.plot(tiempo, data1v, label=\"Ch1\")\n",
    "plt.plot(tiempo, data2v, label=\"Ch2\")\n",
    "plt.legend(loc=1)\n",
    "plt.xlabel('Tiempo [s]')\n",
    "plt.ylabel('Voltaje [V]')"
   ]
  },
  {
   "cell_type": "markdown",
   "metadata": {},
   "source": [
    "**2.a. Control de la frecuencia y amplitud del generador**"
   ]
  },
  {
   "cell_type": "code",
   "execution_count": null,
   "metadata": {},
   "outputs": [],
   "source": [
    "######### TEKTRONIX ############\n",
    "# fungen.write('SOURCE1:FREQUENCY 1kHz') #Hz; kHz; MHz\n",
    "# fungen.write(\"SOURCE1:FUNC RAMP\")\n",
    "# fungen.write('SOUR1:VOLT:OFFS 0mV') #Seteo del offset\n",
    "# fungen.write('SOURce1:VOLTage 0.5Vpp') #Seteo de la amplitud pico a pico\n",
    "#time.sleep(1)\n",
    "# fungen.write('SOURCE2:FREQUENCY 100') #Por default las unidades son Hz;\n",
    "\n",
    "#Si le queremos preguntar la amplitud del canal 1\n",
    "#print(fungen.query('SOUR1:VOLT?')) #Version reducida del comando\n",
    "\n",
    "######### SIGLENT ############\n",
    "fungen.write('C1:BSWV FRQ,2000')\n",
    "# fungen.write('C1:BSWV AMP,3') \n",
    "time.sleep(1)\n",
    "fungen.write('C2:BSWV FRQ,2000')"
   ]
  },
  {
   "cell_type": "markdown",
   "metadata": {
    "id": "y4oE_oCu3TMx"
   },
   "source": [
    "## 3. Barrido automático frecuencia y adquisición\n",
    "\n",
    "**Nota 1**: Para el correcto uso del autoset del osciloscopio, es importante que la señal que ustedes quieren medir sea la fuente del trigger. La fuente del trigger se puede automatizar (ejercicio).\n",
    "\n",
    "**Nota 2**: Si no tienen una señal en el segundo canal del oscilo, prestar atencion que el autoset no apague el canal durante el barrido (siempre deben estar ambos canales prendidos). \n",
    "\n",
    "**Nota 3**: Para frecuencias menores a 20Hz estamos seteando manualmente la escala horizontal. Para frecuencias mayores usamos el autoset del osciloscopio. Prestarle atencion a los tiempos de espera, para que el oscilo llegue a terminar de procesar la instruccion enviada. "
   ]
  },
  {
   "cell_type": "code",
   "execution_count": null,
   "metadata": {
    "id": "jx2qu2BD3TMx",
    "outputId": "0995b95e-ddbc-4b4f-e465-ac5bddf9a4fb"
   },
   "outputs": [],
   "source": [
    "osci.write('DAT:ENC RPB')\n",
    "osci.write('DAT:WID 1')\n",
    "\n",
    "# Creamos listas vacias para guardar los datos\n",
    "frecuencias_lista = []\n",
    "tiempos = []\n",
    "datach1 = []\n",
    "datach2 = []\n",
    "deltaVCH1 = []\n",
    "deltaVCH2 = []\n",
    "\n",
    "#frecuencias del barrido\n",
    "frecuencias = np.logspace(1,5,5)\n",
    "\n",
    "for freq in frecuencias:    \n",
    "    ############# TEKTRONIX ###############\n",
    "#     fungen.write('SOURCE1:FREQUENCY {:f}'.format(freq))\n",
    "    \n",
    "    ############# SIGLENT ###############\n",
    "    fungen.write('C1:BSWV FRQ,{:f}'.format(freq))\n",
    "    print('Comando enviado: ' + 'FREQ {:f}'.format(freq)) \n",
    "        \n",
    "    ############# Osci ###############\n",
    "    if freq < 20:\n",
    "        osci.write(\"HORizontal:MAIn:SCAle 20E-3\")\n",
    "    else:\n",
    "        time.sleep(10) #Esperar a que el oscilo reciba la nueva señal, antes de pedirle que calcule el autoset \n",
    "        osci.write('autoset EXECUTE') # autoset necesario\n",
    "        # osci.write(\"AUTORANGE:STATE OFF\")\n",
    "\n",
    "    time.sleep(5)\n",
    "    \n",
    "    #Prendemos ambos canales del osciloscopio\n",
    "    osci.write('SEL:CH1 ON')\n",
    "    osci.write('SEL:CH2 ON')\n",
    "    time.sleep(0.5)\n",
    "    \n",
    "    #Canal 1\n",
    "    osci.write('DAT:SOU CH1') \n",
    "    xze1, xin1, yze1, ymu1, yoff1 = osci.query_ascii_values('WFMPRE:XZE?;XIN?;YZE?;YMU?;YOFF?;', separator=';')\n",
    "    data1 = osci.query_binary_values('CURV?', datatype='B', container=np.array)\n",
    "\n",
    "    #Canal 2\n",
    "    osci.write('DAT:SOU CH2') \n",
    "    xze2, xin2, yze2, ymu2, yoff2 = osci.query_ascii_values('WFMPRE:XZE?;XIN?;YZE?;YMU?;YOFF?;', separator=';')\n",
    "    data2 = osci.query_binary_values('CURV?', datatype='B', container=np.array)\n",
    "\n",
    "    #Conversion a voltaje\n",
    "    tiempo = xze1 + np.arange(len(data1)) * xin1 #tiempo de ch1 y ch2 son iguales\n",
    "    data1v = (data1 - yoff1) * ymu1 + yze1\n",
    "    data2v = (data2 - yoff2) * ymu2 + yze2\n",
    "    \n",
    "    #Guardamos lo medido\n",
    "    frecuencias_lista.extend([freq] * len(tiempo))\n",
    "    tiempos.extend(tiempo)\n",
    "    datach1.extend(data1v)\n",
    "    datach2.extend(data2v)\n",
    "    deltaVCH1.extend([ymu1] * len(tiempo))\n",
    "    deltaVCH2.extend([ymu2] * len(tiempo)) \n",
    "    \n",
    "    #Graficamos para ir viendo\n",
    "    plt.plot(tiempo, data1v, label=str(freq)+\"Hz\")\n",
    "    plt.plot(tiempo, data2v, label=\"CH2\")\n",
    "    plt.legend(loc=1)\n",
    "    plt.show()\n",
    "    \n",
    "# Create DataFrame in one step\n",
    "df = pd.DataFrame({\n",
    "    \"Frecuencias\": frecuencias_lista,\n",
    "    \"Tiempo\": tiempos,\n",
    "    \"VoltajeCH1\": datach1,\n",
    "    \"VoltajeCH2\": datach2, \n",
    "    \"ResolucionVCH1\": deltaVCH1, \n",
    "    \"ResolucionVCH2\": deltaVCH2\n",
    "})\n",
    "\n",
    "#Guardado\n",
    "save_folder = 'C:/Users/LSD/Downloads/'\n",
    "df.to_csv(save_folder+\"data_test.csv\", index=False, header=True)"
   ]
  },
  {
   "cell_type": "markdown",
   "metadata": {},
   "source": [
    "**Levantar los datos**"
   ]
  },
  {
   "cell_type": "code",
   "execution_count": null,
   "metadata": {},
   "outputs": [],
   "source": [
    "#Levantar los datos\n",
    "df_ff = pd.read_csv(save_folder+\"data_test.csv\", index_col=[\"Frecuencias\", \"Tiempo\"])\n",
    "\n",
    "df_ff.head()"
   ]
  },
  {
   "cell_type": "code",
   "execution_count": null,
   "metadata": {},
   "outputs": [],
   "source": [
    "#Graficar los valores de una adquisicion\n",
    "df_100 = df_ff.loc[100] #Buscamos los datos de 100Hz\n",
    "df_100.head()\n",
    "\n",
    "tiempo = df_100.index\n",
    "v1 = df_100[\"VoltajeCH1\"].values\n",
    "\n",
    "plt.figure(figsize=(5,3))\n",
    "plt.plot(tiempo, v1)\n",
    "plt.show()"
   ]
  },
  {
   "cell_type": "markdown",
   "metadata": {},
   "source": [
    "## 4. Guardado de datos para una frecuencia"
   ]
  },
  {
   "cell_type": "code",
   "execution_count": null,
   "metadata": {},
   "outputs": [],
   "source": [
    "#Prendemos ambos canales del osciloscopio\n",
    "osci.write('SEL:CH1 ON')\n",
    "osci.write('SEL:CH2 ON')\n",
    "time.sleep(0.5)\n",
    "\n",
    "#################### Seteo de la frecuencia ##################\n",
    "freq = 100\n",
    "#     fungen.write('SOURCE1:FREQUENCY {:f}'.format(freq)) #Si tenes tektronix\n",
    "fungen.write('C1:BSWV FRQ,{:f}'.format(freq)) #Si tenes SIGLENT\n",
    "\n",
    "#################### Setear las escalas del oscilo #############\n",
    "osci.write(\"HORizontal:MAIn:SCAle 4E-3\") #Ver para cada frecuencia la mejor escala\n",
    "osci.write(\"CH1:SCAle 2V\") #Ver para cada frecuencia la mejor escala\n",
    "osci.write(\"CH2:SCAle 2V\") #Ver para cada frecuencia la mejor escala\n",
    "\n",
    "#################### Adquisicion de datos ##################\n",
    "# io config, modo de transmision\n",
    "osci.write('DAT:ENC RPB')\n",
    "osci.write('DAT:WID 1')\n",
    "\n",
    "#Canal 1\n",
    "osci.write('DAT:SOU CH1') \n",
    "          # DATa:SOUrce <wfm> \\ <wfm> puede ser CH<x>, MATH, REF<x> o FFT\n",
    "\n",
    "xze1, xin1, yze1, ymu1, yoff1 = osci.query_ascii_values('WFMPRE:XZE?;XIN?;YZE?;YMU?;YOFF?;', separator=';')\n",
    "data1 = osci.query_binary_values('CURV?', datatype='B', container=np.array)\n",
    "\n",
    "#Canal 2\n",
    "osci.write('DAT:SOU CH2') \n",
    "\n",
    "xze2, xin2, yze2, ymu2, yoff2 = osci.query_ascii_values('WFMPRE:XZE?;XIN?;YZE?;YMU?;YOFF?;', separator=';')\n",
    "data2 = osci.query_binary_values('CURV?', datatype='B', container=np.array)\n",
    "\n",
    "#Conversion a voltaje\n",
    "tiempo = xze1 + np.arange(len(data1)) * xin1 #tiempo de ch1 y ch2 son iguales\n",
    "data1v = (data1 - yoff1) * ymu1 + yze1\n",
    "data2v = (data2 - yoff2) * ymu2 + yze2\n",
    "\n",
    "############# GUARDADO DE DATOS #############\n",
    "#los acomodamos en un dataframe de pandas\n",
    "df = pd.DataFrame({'Tiempo':tiempo,'VoltajeCH1':data1v,'VoltajeCH2':data2v})\n",
    "#si queremos guardar la frecuencia (se agrega una columna extra)\n",
    "df[\"Frecuencia\"] = freq\n",
    "\n",
    "#si queremos guardar la resolucion vertical\n",
    "df[\"ResolucionVCH1\"] = ymu1\n",
    "df[\"ResolucionVCH2\"] = ymu2\n",
    "\n",
    "#Aca podemos decir que la frecuencia y el tiempo sean indices\n",
    "df.set_index([\"Frecuencia\", \"Tiempo\"])\n",
    "#Ahora lo guardamos\n",
    "save_folder = 'C:/Users/LSD/Downloads/'\n",
    "df.to_csv(save_folder+\"data_frecuencia_\"+str(freq)+\".csv\", index=False, header=True)\n",
    "\n",
    "plt.figure()\n",
    "plt.plot(tiempo, data1v, label=\"Ch1\")\n",
    "plt.plot(tiempo, data2v, label=\"Ch2\")\n",
    "plt.legend(loc=1)\n",
    "plt.xlabel('Tiempo [s]')\n",
    "plt.ylabel('Voltaje [V]')\n",
    "plt.show()"
   ]
  }
 ],
 "metadata": {
  "colab": {
   "provenance": []
  },
  "kernelspec": {
   "display_name": "Python 3 (ipykernel)",
   "language": "python",
   "name": "python3"
  },
  "language_info": {
   "codemirror_mode": {
    "name": "ipython",
    "version": 3
   },
   "file_extension": ".py",
   "mimetype": "text/x-python",
   "name": "python",
   "nbconvert_exporter": "python",
   "pygments_lexer": "ipython3",
   "version": "3.12.3"
  }
 },
 "nbformat": 4,
 "nbformat_minor": 4
}
